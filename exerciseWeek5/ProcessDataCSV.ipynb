{
 "cells": [
  {
   "cell_type": "code",
   "execution_count": 1,
   "id": "96054f70",
   "metadata": {},
   "outputs": [],
   "source": [
    "import pandas"
   ]
  },
  {
   "cell_type": "markdown",
   "id": "06302cdf",
   "metadata": {},
   "source": [
    "Đọc file CSV sinh viên và tính điểm trung bình theo lớp."
   ]
  },
  {
   "cell_type": "code",
   "execution_count": 2,
   "id": "aba064a1",
   "metadata": {},
   "outputs": [
    {
     "data": {
      "text/html": [
       "<div>\n",
       "<style scoped>\n",
       "    .dataframe tbody tr th:only-of-type {\n",
       "        vertical-align: middle;\n",
       "    }\n",
       "\n",
       "    .dataframe tbody tr th {\n",
       "        vertical-align: top;\n",
       "    }\n",
       "\n",
       "    .dataframe thead th {\n",
       "        text-align: right;\n",
       "    }\n",
       "</style>\n",
       "<table border=\"1\" class=\"dataframe\">\n",
       "  <thead>\n",
       "    <tr style=\"text-align: right;\">\n",
       "      <th></th>\n",
       "      <th>id</th>\n",
       "      <th>name</th>\n",
       "      <th>class</th>\n",
       "      <th>mathGrade</th>\n",
       "      <th>englishGrade</th>\n",
       "      <th>machineLearningGrade</th>\n",
       "    </tr>\n",
       "  </thead>\n",
       "  <tbody>\n",
       "    <tr>\n",
       "      <th>0</th>\n",
       "      <td>1</td>\n",
       "      <td>Nguyen Van A</td>\n",
       "      <td>DS01</td>\n",
       "      <td>8.5</td>\n",
       "      <td>7.5</td>\n",
       "      <td>9.0</td>\n",
       "    </tr>\n",
       "    <tr>\n",
       "      <th>1</th>\n",
       "      <td>2</td>\n",
       "      <td>Tran Thi B</td>\n",
       "      <td>DS01</td>\n",
       "      <td>7.0</td>\n",
       "      <td>8.0</td>\n",
       "      <td>7.5</td>\n",
       "    </tr>\n",
       "    <tr>\n",
       "      <th>2</th>\n",
       "      <td>3</td>\n",
       "      <td>Le Van C</td>\n",
       "      <td>DS02</td>\n",
       "      <td>9.0</td>\n",
       "      <td>6.5</td>\n",
       "      <td>8.5</td>\n",
       "    </tr>\n",
       "    <tr>\n",
       "      <th>3</th>\n",
       "      <td>4</td>\n",
       "      <td>Pham Thi D</td>\n",
       "      <td>DS02</td>\n",
       "      <td>6.5</td>\n",
       "      <td>7.0</td>\n",
       "      <td>6.0</td>\n",
       "    </tr>\n",
       "    <tr>\n",
       "      <th>4</th>\n",
       "      <td>5</td>\n",
       "      <td>Hoang Van E</td>\n",
       "      <td>DS03</td>\n",
       "      <td>8.0</td>\n",
       "      <td>8.5</td>\n",
       "      <td>9.5</td>\n",
       "    </tr>\n",
       "  </tbody>\n",
       "</table>\n",
       "</div>"
      ],
      "text/plain": [
       "   id          name class  mathGrade  englishGrade  machineLearningGrade\n",
       "0   1  Nguyen Van A  DS01        8.5           7.5                   9.0\n",
       "1   2    Tran Thi B  DS01        7.0           8.0                   7.5\n",
       "2   3      Le Van C  DS02        9.0           6.5                   8.5\n",
       "3   4    Pham Thi D  DS02        6.5           7.0                   6.0\n",
       "4   5   Hoang Van E  DS03        8.0           8.5                   9.5"
      ]
     },
     "execution_count": 2,
     "metadata": {},
     "output_type": "execute_result"
    }
   ],
   "source": [
    "data = pandas.read_csv(\"student_grades.csv\")\n",
    "data"
   ]
  },
  {
   "cell_type": "code",
   "execution_count": 3,
   "id": "f3bd56f1",
   "metadata": {},
   "outputs": [
    {
     "data": {
      "text/plain": [
       "class\n",
       "DS01    7.5\n",
       "DS02    7.0\n",
       "DS03    8.0\n",
       "Name: mean, dtype: float64"
      ]
     },
     "execution_count": 3,
     "metadata": {},
     "output_type": "execute_result"
    }
   ],
   "source": [
    "data[\"mean\"] = (data[\"mathGrade\"] + data[\"englishGrade\"] + data[\"machineLearningGrade\"]) // 3\n",
    "class_mean = data.groupby(\"class\")[\"mean\"].mean()\n",
    "class_mean\n"
   ]
  },
  {
   "cell_type": "markdown",
   "id": "7d042e3c",
   "metadata": {},
   "source": [
    "Gộp nhiều file text thành một file lớn kèm tiêu đề."
   ]
  },
  {
   "cell_type": "code",
   "execution_count": 4,
   "id": "e07d3c7b",
   "metadata": {},
   "outputs": [],
   "source": [
    "with open(\"newData1.txt\", \"w\", encoding='utf-8') as f:\n",
    "    f.write(\"Hello this is newData1.txt\")\n",
    "with open(\"newData2.txt\", \"w\", encoding='utf-8') as f:\n",
    "    f.write(\"Hello this is newData2.txt\")\n",
    "with open(\"newData3.txt\", \"w\", encoding='utf-8') as f:\n",
    "    f.write(\"Hello this is newData3.txt\")"
   ]
  },
  {
   "cell_type": "code",
   "execution_count": 5,
   "id": "3685a383",
   "metadata": {},
   "outputs": [],
   "source": [
    "files = [\"newData1.txt\", \"newData2.txt\", \"newData3.txt\"]\n",
    "with open(\"mergeData.txt\", \"w\", encoding='utf-8') as f:\n",
    "    for file in files:\n",
    "        with open (file, 'r', encoding= \"utf-8\") as fileChild:\n",
    "            f.write(fileChild.read())\n",
    "            f.write('\\n')"
   ]
  },
  {
   "cell_type": "markdown",
   "id": "abc39d3e",
   "metadata": {},
   "source": [
    "Parse JSON cấu hình, validate khóa bắt buộc, báo lỗi rõ."
   ]
  },
  {
   "cell_type": "code",
   "execution_count": 6,
   "id": "e02d1a6c",
   "metadata": {},
   "outputs": [],
   "source": [
    "import json"
   ]
  },
  {
   "cell_type": "code",
   "execution_count": 7,
   "id": "d8fa5756",
   "metadata": {},
   "outputs": [
    {
     "data": {
      "text/plain": [
       "[{'id': 1,\n",
       "  'name': 'GunDam',\n",
       "  'class': 'DS01',\n",
       "  'mathGrade': 10,\n",
       "  'englishGrade': 7.5,\n",
       "  'machineLearningGrade': 9.0},\n",
       " {'id': 2,\n",
       "  'class': 'DS01',\n",
       "  'mathGrade': 7.0,\n",
       "  'englishGrade': 8.0,\n",
       "  'machineLearningGrade': 7.5},\n",
       " {'id': 3,\n",
       "  'name': 'Le Van C',\n",
       "  'class': 'DS02',\n",
       "  'mathGrade': 9.0,\n",
       "  'englishGrade': 6.5,\n",
       "  'machineLearningGrade': 8.5},\n",
       " {'id': 4,\n",
       "  'name': 'Pham Thi D',\n",
       "  'class': 'DS02',\n",
       "  'mathGrade': 6.5,\n",
       "  'englishGrade': 7.0},\n",
       " {'id': 5,\n",
       "  'name': 'Hoang Van E',\n",
       "  'class': 'DS03',\n",
       "  'mathGrade': 8.0,\n",
       "  'englishGrade': 8.5,\n",
       "  'machineLearningGrade': 9.5}]"
      ]
     },
     "execution_count": 7,
     "metadata": {},
     "output_type": "execute_result"
    }
   ],
   "source": [
    "with open(\"dataJson.json\", \"r\", encoding='utf-8') as f:\n",
    "    dataJson = json.load(f)\n",
    "dataJson"
   ]
  },
  {
   "cell_type": "code",
   "execution_count": 8,
   "id": "35908761",
   "metadata": {},
   "outputs": [],
   "source": [
    "from jsonschema import validate, ValidationError\n",
    "import json"
   ]
  },
  {
   "cell_type": "code",
   "execution_count": 9,
   "id": "5f61f6a6",
   "metadata": {},
   "outputs": [
    {
     "name": "stdout",
     "output_type": "stream",
     "text": [
      "Invalid data json. 1 is not of type 'string'\n",
      "['id']\n",
      "1\n",
      "Invalid data json. 'name' is a required property\n",
      "[]\n",
      "{'id': 2, 'class': 'DS01', 'mathGrade': 7.0, 'englishGrade': 8.0, 'machineLearningGrade': 7.5}\n",
      "Invalid data json. 3 is not of type 'string'\n",
      "['id']\n",
      "3\n",
      "Invalid data json. 4 is not of type 'string'\n",
      "['id']\n",
      "4\n",
      "Invalid data json. 5 is not of type 'string'\n",
      "['id']\n",
      "5\n"
     ]
    }
   ],
   "source": [
    "schemaData = {\n",
    "    \"type\": \"object\",\n",
    "    \"properties\": {\n",
    "        \"id\": {\"type\": \"string\", \"minimum\": 1},\n",
    "        \"name\": {\"type\": \"string\", \"minLength\": 1},\n",
    "        \"class\": {\"type\": \"string\", \"minLength\": 1},\n",
    "        \"mathGrade\": {\"type\": \"number\", \"minLength\": 1},\n",
    "        \"englishGrade\": {\"type\": \"number\", \"minLength\": 1},\n",
    "        \"machineLearningGrade\": {\"type\": \"number\", \"minLength\": 1}\n",
    "    },\n",
    "    \"required\": [\"id\", \"name\", \"class\"]\n",
    "}\n",
    "\n",
    "for item in dataJson:\n",
    "    try:\n",
    "        validate(instance=item, schema=schemaData)\n",
    "        print(\"The data is very good.\")\n",
    "    except ValidationError as e:\n",
    "        print(f\"Invalid data json. {e.message}\")\n",
    "        print(list(e.path)) # in ra key/idx cua gia tri loi\n",
    "        print(e.instance) # phan instance gay loi\n",
    "        "
   ]
  },
  {
   "cell_type": "markdown",
   "id": "5fd969ed",
   "metadata": {},
   "source": [
    "Ghi log theo ngày vào file, xoay file khi quá lớn."
   ]
  },
  {
   "cell_type": "code",
   "execution_count": 10,
   "id": "a8f511e4",
   "metadata": {},
   "outputs": [],
   "source": [
    "from datetime import datetime\n",
    "import os\n",
    "def log(message, logfile = \"dataJson.json\"):\n",
    "    time = datetime.now().isoformat()\n",
    "    log_time = f\"[{time}] {message} \\n\"\n",
    "    with open(logfile, \"a\", encoding='utf-8') as f:\n",
    "        f.write(log_time)\n",
    "# log(\"Start\")\n",
    "# log(\"End\")"
   ]
  },
  {
   "cell_type": "markdown",
   "id": "89efbef4",
   "metadata": {},
   "source": [
    "Viết generator đọc file theo từng dòng (lazy)."
   ]
  },
  {
   "cell_type": "code",
   "execution_count": 11,
   "id": "51e85eff",
   "metadata": {},
   "outputs": [
    {
     "name": "stdout",
     "output_type": "stream",
     "text": [
      "[\n",
      "{\n",
      "\"id\": 1,\n",
      "\"name\": \"GunDam\",\n",
      "\"class\": \"DS01\",\n",
      "\"mathGrade\": 10,\n",
      "\"englishGrade\": 7.5,\n",
      "\"machineLearningGrade\": 9.0\n",
      "},\n",
      "{\n",
      "\"id\": 2,\n",
      "\"class\": \"DS01\",\n",
      "\"mathGrade\": 7.0,\n",
      "\"englishGrade\": 8.0,\n",
      "\"machineLearningGrade\": 7.5\n",
      "},\n",
      "{\n",
      "\"id\": 3,\n",
      "\"name\": \"Le Van C\",\n",
      "\"class\": \"DS02\",\n",
      "\"mathGrade\": 9.0,\n",
      "\"englishGrade\": 6.5,\n",
      "\"machineLearningGrade\": 8.5\n",
      "},\n",
      "{\n",
      "\"id\": 4,\n",
      "\"name\": \"Pham Thi D\",\n",
      "\"class\": \"DS02\",\n",
      "\"mathGrade\": 6.5,\n",
      "\"englishGrade\": 7.0\n",
      "},\n",
      "{\n",
      "\"id\": 5,\n",
      "\"name\": \"Hoang Van E\",\n",
      "\"class\": \"DS03\",\n",
      "\"mathGrade\": 8.0,\n",
      "\"englishGrade\": 8.5,\n",
      "\"machineLearningGrade\": 9.5\n",
      "}\n",
      "]\n",
      "\n"
     ]
    }
   ],
   "source": [
    "def readEachLine(file = \"dataJson.json\"):\n",
    "    with open(file, \"r\", encoding= 'utf-8') as f:\n",
    "        for line in f:\n",
    "            yield line.strip()\n",
    "for line in readEachLine():\n",
    "    print(line)"
   ]
  },
  {
   "cell_type": "markdown",
   "id": "94d5ab2c",
   "metadata": {},
   "source": [
    "Thống kê số lượng từ trong file lớn mà không load toàn bộ vào RAM."
   ]
  },
  {
   "cell_type": "code",
   "execution_count": 12,
   "id": "e2901f58",
   "metadata": {},
   "outputs": [
    {
     "data": {
      "text/plain": [
       "Counter({'{': 5,\n",
       "         '\"id\":': 5,\n",
       "         '\"class\":': 5,\n",
       "         '\"mathGrade\":': 5,\n",
       "         '\"englishGrade\":': 5,\n",
       "         '\"name\":': 4,\n",
       "         '\"machineLearningGrade\":': 4,\n",
       "         '},': 4,\n",
       "         '\"DS01\",': 2,\n",
       "         '8.0,': 2,\n",
       "         'Van': 2,\n",
       "         '\"DS02\",': 2,\n",
       "         '6.5,': 2,\n",
       "         '[': 1,\n",
       "         '1,': 1,\n",
       "         '\"GunDam\",': 1,\n",
       "         '10,': 1,\n",
       "         '7.5,': 1,\n",
       "         '9.0': 1,\n",
       "         '2,': 1,\n",
       "         '7.0,': 1,\n",
       "         '7.5': 1,\n",
       "         '3,': 1,\n",
       "         '\"Le': 1,\n",
       "         'C\",': 1,\n",
       "         '9.0,': 1,\n",
       "         '8.5': 1,\n",
       "         '4,': 1,\n",
       "         '\"Pham': 1,\n",
       "         'Thi': 1,\n",
       "         'D\",': 1,\n",
       "         '7.0': 1,\n",
       "         '5,': 1,\n",
       "         '\"Hoang': 1,\n",
       "         'E\",': 1,\n",
       "         '\"DS03\",': 1,\n",
       "         '8.5,': 1,\n",
       "         '9.5': 1,\n",
       "         '}': 1,\n",
       "         ']': 1})"
      ]
     },
     "execution_count": 12,
     "metadata": {},
     "output_type": "execute_result"
    }
   ],
   "source": [
    "from collections import Counter\n",
    "def countWord(file = \"dataJson.json\"):\n",
    "    count = Counter()\n",
    "    with open(file, \"r\", encoding='utf-8') as f:\n",
    "        for line in f:\n",
    "            word = line.strip().split()\n",
    "            count.update(word)\n",
    "    return count\n",
    "countWord()\n"
   ]
  },
  {
   "cell_type": "markdown",
   "id": "822c65fc",
   "metadata": {},
   "source": [
    "Chuyển dữ liệu từ CSV -> JSON theo schema định sẵn."
   ]
  },
  {
   "cell_type": "code",
   "execution_count": 13,
   "id": "daf5fff7",
   "metadata": {},
   "outputs": [],
   "source": [
    "import csv\n",
    "from jsonschema import validate, ValidationError"
   ]
  },
  {
   "cell_type": "code",
   "execution_count": 14,
   "id": "c144241a",
   "metadata": {},
   "outputs": [
    {
     "name": "stdout",
     "output_type": "stream",
     "text": [
      "'8.5' is not of type 'number'\n",
      "'7.0' is not of type 'number'\n",
      "'9.0' is not of type 'number'\n",
      "'6.5' is not of type 'number'\n",
      "'8.0' is not of type 'number'\n"
     ]
    }
   ],
   "source": [
    "with open(\"student_grades.csv\", \"r\", encoding='utf-8') as f:\n",
    "    reader = csv.DictReader(f)\n",
    "    data = []\n",
    "    for row in reader:\n",
    "        obj = {\n",
    "            \"id\": int(row[\"id\"]),\n",
    "            \"name\": str(row[\"name\"]),\n",
    "            \"class\": str(row[\"class\"]),\n",
    "            \"mathGrade\": float(row[\"mathGrade\"]),\n",
    "            \"englishGrade\": float(row[\"englishGrade\"]),\n",
    "            \"machineLearningGrade\": float(row[\"machineLearningGrade\"])\n",
    "            \n",
    "        }\n",
    "        try:\n",
    "            validate(instance=row, schema=schemaData)\n",
    "            data.append(obj)\n",
    "        except ValidationError as e:\n",
    "            print(f\"{e.message}\")"
   ]
  },
  {
   "cell_type": "markdown",
   "id": "fc44f829",
   "metadata": {},
   "source": [
    "Tạo backup thư mục (copy tree) bỏ qua pattern nhất định."
   ]
  },
  {
   "cell_type": "code",
   "execution_count": null,
   "id": "d195bbe8",
   "metadata": {},
   "outputs": [
    {
     "data": {
      "text/plain": [
       "'/home/voanhnhat/Documents/PYTHON/test4'"
      ]
     },
     "execution_count": 17,
     "metadata": {},
     "output_type": "execute_result"
    }
   ],
   "source": [
    "import shutil\n",
    "import fnmatch\n",
    "def ignorePatterns(patterns): #patterns: danh sach muon bo qua\n",
    "    def _ignore(path, names): #path: thu muc hien tai, names: danh sach file/thu muc trong path\n",
    "        ignored = []\n",
    "        for pattern in patterns:\n",
    "            ignored.extend(fnmatch.filter(names, pattern)) # tra ve tap hop ten file/ folder can bo qua \n",
    "        return set(ignored) # tra ve tap hop\n",
    "    return _ignore # tra ve _ignore de su dung copytree\n",
    "shutil.copytree(\"/home/voanhnhat/Documents/PYTHON/EXERCISE_WEEK5\", \"/home/voanhnhat/Documents/PYTHON/test4\", ignore = ignorePatterns([\"*.tmp\", \"*.log\"]))"
   ]
  },
  {
   "cell_type": "markdown",
   "id": "98929721",
   "metadata": {},
   "source": [
    "ETL mini: đọc CSV bán hàng, làm sạch dữ liệu (trim, loại bỏ null), tính doanh thu theo tháng và xuất JSON kết quả."
   ]
  },
  {
   "cell_type": "code",
   "execution_count": null,
   "id": "fbb62322",
   "metadata": {},
   "outputs": [],
   "source": []
  }
 ],
 "metadata": {
  "kernelspec": {
   "display_name": "venv",
   "language": "python",
   "name": "python3"
  },
  "language_info": {
   "codemirror_mode": {
    "name": "ipython",
    "version": 3
   },
   "file_extension": ".py",
   "mimetype": "text/x-python",
   "name": "python",
   "nbconvert_exporter": "python",
   "pygments_lexer": "ipython3",
   "version": "3.13.5"
  }
 },
 "nbformat": 4,
 "nbformat_minor": 5
}
